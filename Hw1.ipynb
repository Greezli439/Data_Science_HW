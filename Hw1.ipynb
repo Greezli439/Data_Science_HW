{
  "nbformat": 4,
  "nbformat_minor": 0,
  "metadata": {
    "colab": {
      "provenance": []
    },
    "kernelspec": {
      "name": "python3",
      "display_name": "Python 3"
    },
    "language_info": {
      "name": "python"
    }
  },
  "cells": [
    {
      "cell_type": "code",
      "execution_count": 12,
      "metadata": {
        "id": "IE_Ytb4O2sDW"
      },
      "outputs": [],
      "source": [
        "import numpy as np"
      ]
    },
    {
      "cell_type": "code",
      "source": [
        "res_1 = np.arange(1, 10+1)\n",
        "print(res_1)"
      ],
      "metadata": {
        "colab": {
          "base_uri": "https://localhost:8080/"
        },
        "id": "pqGG8QflCJFW",
        "outputId": "4c6add36-dda9-4fc5-f170-13eba8c64b45"
      },
      "execution_count": 13,
      "outputs": [
        {
          "output_type": "stream",
          "name": "stdout",
          "text": [
            "[ 1  2  3  4  5  6  7  8  9 10]\n"
          ]
        }
      ]
    },
    {
      "cell_type": "code",
      "source": [
        "res_2 = np.zeros((3, 3))\n",
        "print(res_2)"
      ],
      "metadata": {
        "colab": {
          "base_uri": "https://localhost:8080/"
        },
        "id": "Jj8MNxSHCkNB",
        "outputId": "6929594c-d360-4811-83ca-6aa2293917e1"
      },
      "execution_count": 14,
      "outputs": [
        {
          "output_type": "stream",
          "name": "stdout",
          "text": [
            "[[0. 0. 0.]\n",
            " [0. 0. 0.]\n",
            " [0. 0. 0.]]\n"
          ]
        }
      ]
    },
    {
      "cell_type": "code",
      "source": [
        "res_3 = np.random.randint(1, 10, (5, 5))\n",
        "print(res_3)"
      ],
      "metadata": {
        "colab": {
          "base_uri": "https://localhost:8080/"
        },
        "id": "5CBZ1kqZC9DK",
        "outputId": "32c88cad-e218-4638-fbe9-c8a9221f371d"
      },
      "execution_count": 15,
      "outputs": [
        {
          "output_type": "stream",
          "name": "stdout",
          "text": [
            "[[8 9 3 1 3]\n",
            " [5 7 3 9 7]\n",
            " [3 1 3 7 8]\n",
            " [3 1 1 4 1]\n",
            " [1 8 1 3 8]]\n"
          ]
        }
      ]
    },
    {
      "cell_type": "code",
      "source": [
        "res_4 = np.random.random((4, 4))\n",
        "print(res_4)"
      ],
      "metadata": {
        "colab": {
          "base_uri": "https://localhost:8080/"
        },
        "id": "hNRuEmqsD9Wh",
        "outputId": "a24b3812-9698-4548-f683-f4767f079aa6"
      },
      "execution_count": 16,
      "outputs": [
        {
          "output_type": "stream",
          "name": "stdout",
          "text": [
            "[[0.02171841 0.10975203 0.5418889  0.85329246]\n",
            " [0.21662533 0.60248426 0.78464068 0.16273529]\n",
            " [0.99875375 0.71374869 0.0857337  0.22801712]\n",
            " [0.28390772 0.09363596 0.50201216 0.96873465]]\n"
          ]
        }
      ]
    },
    {
      "cell_type": "code",
      "source": [
        "# 5\n",
        "a = np.random.randint(1, 10, (5,))\n",
        "b = np.random.randint(1, 10, (5,))\n",
        "print(a + b)\n",
        "print(a - b)\n",
        "print(a * b)"
      ],
      "metadata": {
        "colab": {
          "base_uri": "https://localhost:8080/"
        },
        "id": "RvMRmOkQEc0R",
        "outputId": "0f8080fd-0875-453b-db45-1b537074fb1f"
      },
      "execution_count": 17,
      "outputs": [
        {
          "output_type": "stream",
          "name": "stdout",
          "text": [
            "[ 6 12  8  7 10]\n",
            "[-2  2  6 -5 -2]\n",
            "[ 8 35  7  6 24]\n"
          ]
        }
      ]
    },
    {
      "cell_type": "code",
      "source": [
        "# 6\n",
        "a = np.random.randint(1, 10, (7,))\n",
        "b = np.random.randint(1, 10, (7,))\n",
        "print(np.dot(a, b))"
      ],
      "metadata": {
        "colab": {
          "base_uri": "https://localhost:8080/"
        },
        "id": "m7EidPBfFRh9",
        "outputId": "5689f016-1d21-4693-a877-a2a01fc41093"
      },
      "execution_count": 18,
      "outputs": [
        {
          "output_type": "stream",
          "name": "stdout",
          "text": [
            "114\n"
          ]
        }
      ]
    },
    {
      "cell_type": "code",
      "source": [
        "# 7\n",
        "a = np.random.randint(1, 10, (2, 2))\n",
        "b = np.random.randint(1, 10, (2, 3))\n",
        "print(np.dot(a, b))"
      ],
      "metadata": {
        "colab": {
          "base_uri": "https://localhost:8080/"
        },
        "id": "T_bMKTyaGKFd",
        "outputId": "249da0af-4975-4a6d-dc3d-ea9e2894c94d"
      },
      "execution_count": 19,
      "outputs": [
        {
          "output_type": "stream",
          "name": "stdout",
          "text": [
            "[[78 55 42]\n",
            " [64 45 34]]\n"
          ]
        }
      ]
    },
    {
      "cell_type": "code",
      "source": [
        "# 8\n",
        "a = np.random.random((4,4))\n",
        "a_inv = np.linalg.inv(a)\n",
        "print(a_inv)"
      ],
      "metadata": {
        "colab": {
          "base_uri": "https://localhost:8080/"
        },
        "id": "rNnxyCnfHXVA",
        "outputId": "fd3740ba-f1db-460f-d928-2494791e55fd"
      },
      "execution_count": 20,
      "outputs": [
        {
          "output_type": "stream",
          "name": "stdout",
          "text": [
            "[[-1.39118057  1.00960785  0.24174155  1.29026434]\n",
            " [-0.93240108  2.25798622 -3.15562527  2.50648672]\n",
            " [ 1.77353839 -1.40943944  2.67361895 -3.48897847]\n",
            " [ 1.7348551  -2.03164117  0.60097456 -0.43447396]]\n"
          ]
        }
      ]
    },
    {
      "cell_type": "code",
      "source": [
        "# 9\n",
        "a = np.random.random((4,4))\n",
        "print(a.T)"
      ],
      "metadata": {
        "colab": {
          "base_uri": "https://localhost:8080/"
        },
        "id": "rjUdDjwnH8vC",
        "outputId": "cea924ae-feb1-4026-adde-5261ff470c47"
      },
      "execution_count": 21,
      "outputs": [
        {
          "output_type": "stream",
          "name": "stdout",
          "text": [
            "[[0.9778375  0.31341551 0.78362429 0.82230388]\n",
            " [0.37177469 0.50128363 0.13858107 0.6620127 ]\n",
            " [0.20164649 0.65497205 0.40433183 0.41481742]\n",
            " [0.60483352 0.20324361 0.12569083 0.8337381 ]]\n"
          ]
        }
      ]
    },
    {
      "cell_type": "code",
      "source": [
        "# 10\n",
        "a = np.random.randint(1, 10, (3, 4))\n",
        "b = np.random.randint(1, 10, (4,))\n",
        "print(a, b)\n",
        "print(a * b)"
      ],
      "metadata": {
        "colab": {
          "base_uri": "https://localhost:8080/"
        },
        "id": "MfJx78RzIH4T",
        "outputId": "83a622d3-294e-46bf-eccf-a8a7837b42c1"
      },
      "execution_count": 22,
      "outputs": [
        {
          "output_type": "stream",
          "name": "stdout",
          "text": [
            "[[2 7 5 2]\n",
            " [3 5 8 4]\n",
            " [2 4 6 9]] [1 4 6 6]\n",
            "[[ 2 28 30 12]\n",
            " [ 3 20 48 24]\n",
            " [ 2 16 36 54]]\n"
          ]
        }
      ]
    },
    {
      "cell_type": "code",
      "source": [
        "# 11\n",
        "a = np.random.random((2, 3))\n",
        "b = np.random.random((3,))\n",
        "print(a, b)\n",
        "print(a * b)"
      ],
      "metadata": {
        "colab": {
          "base_uri": "https://localhost:8080/"
        },
        "id": "-B3eOkt2Ikde",
        "outputId": "8822247e-9a64-403e-fdf3-27516584ba91"
      },
      "execution_count": 23,
      "outputs": [
        {
          "output_type": "stream",
          "name": "stdout",
          "text": [
            "[[0.91665129 0.19132027 0.61102259]\n",
            " [0.33131131 0.95156009 0.09684664]] [0.10716396 0.7574517  0.57637487]\n",
            "[[0.09823198 0.14491586 0.35217807]\n",
            " [0.03550463 0.72076081 0.05581997]]\n"
          ]
        }
      ]
    },
    {
      "cell_type": "code",
      "source": [
        "# 12\n",
        "a = np.random.randint(1, 10, (2, 2))\n",
        "b = np.random.randint(1, 10, (2, 2))\n",
        "print(a * b)"
      ],
      "metadata": {
        "colab": {
          "base_uri": "https://localhost:8080/"
        },
        "id": "4XFEjJweIsSe",
        "outputId": "46990686-dfba-4309-e616-fdf3ba367942"
      },
      "execution_count": 24,
      "outputs": [
        {
          "output_type": "stream",
          "name": "stdout",
          "text": [
            "[[18  6]\n",
            " [16 10]]\n"
          ]
        }
      ]
    },
    {
      "cell_type": "code",
      "source": [
        "# 13\n",
        "a = np.random.randint(1, 10, (2, 2))\n",
        "b = np.random.randint(1, 10, (2, 2))\n",
        "print(np.dot(a, b))"
      ],
      "metadata": {
        "colab": {
          "base_uri": "https://localhost:8080/"
        },
        "id": "4eeCpsvoI7eO",
        "outputId": "dd107e7e-5341-41e5-da6a-e820188e92d0"
      },
      "execution_count": 25,
      "outputs": [
        {
          "output_type": "stream",
          "name": "stdout",
          "text": [
            "[[34 17]\n",
            " [72 36]]\n"
          ]
        }
      ]
    },
    {
      "cell_type": "code",
      "source": [
        "# 14\n",
        "a = np.random.randint(1, 100, (5, 5))\n",
        "print(a.sum())"
      ],
      "metadata": {
        "colab": {
          "base_uri": "https://localhost:8080/"
        },
        "id": "DvExDYEfJV42",
        "outputId": "05b8794f-8723-4397-df6d-70644fcf94e2"
      },
      "execution_count": 26,
      "outputs": [
        {
          "output_type": "stream",
          "name": "stdout",
          "text": [
            "1295\n"
          ]
        }
      ]
    },
    {
      "cell_type": "code",
      "source": [
        "# 15\n",
        "a = np.random.randint(1, 10, (4, 4))\n",
        "b = np.random.randint(1, 10, (4, 4))\n",
        "print(a -  b)"
      ],
      "metadata": {
        "colab": {
          "base_uri": "https://localhost:8080/"
        },
        "id": "dWZRranzKvJH",
        "outputId": "bfc8b0b2-5d5e-42eb-8b1d-4aa78dd0a44d"
      },
      "execution_count": 27,
      "outputs": [
        {
          "output_type": "stream",
          "name": "stdout",
          "text": [
            "[[ 4  2  6 -1]\n",
            " [ 1  4  1  7]\n",
            " [ 3  2  1  1]\n",
            " [ 0 -1  0 -2]]\n"
          ]
        }
      ]
    },
    {
      "cell_type": "code",
      "source": [
        "#16\n",
        "a = np.random.random((3, 3))\n",
        "print(a)\n",
        "b = np.array([i.sum() for i in a])\n",
        "print(b.reshape(3,1))"
      ],
      "metadata": {
        "colab": {
          "base_uri": "https://localhost:8080/"
        },
        "id": "etFFctwDLAp2",
        "outputId": "883ab347-1b02-4103-857b-2df4dcb4cd40"
      },
      "execution_count": 28,
      "outputs": [
        {
          "output_type": "stream",
          "name": "stdout",
          "text": [
            "[[0.04833721 0.17572354 0.26705066]\n",
            " [0.31283176 0.04248942 0.21087482]\n",
            " [0.70603579 0.21958585 0.95873752]]\n",
            "[[0.49111141]\n",
            " [0.56619599]\n",
            " [1.88435916]]\n"
          ]
        }
      ]
    },
    {
      "cell_type": "code",
      "source": [
        "# 17\n",
        "a = np.random.randint(1, 10, (3, 4))\n",
        "print(a)\n",
        "b = np.array([[j**2 for j in i] for i in a])\n",
        "print(b)"
      ],
      "metadata": {
        "colab": {
          "base_uri": "https://localhost:8080/"
        },
        "id": "Sl_LzIeCNF0x",
        "outputId": "da7f4cc8-dcce-41a7-a64f-845edb5080e9"
      },
      "execution_count": 29,
      "outputs": [
        {
          "output_type": "stream",
          "name": "stdout",
          "text": [
            "[[4 6 3 3]\n",
            " [2 3 9 1]\n",
            " [9 2 1 5]]\n",
            "[[16 36  9  9]\n",
            " [ 4  9 81  1]\n",
            " [81  4  1 25]]\n"
          ]
        }
      ]
    },
    {
      "cell_type": "code",
      "source": [
        "# 18\n",
        "a = np.random.randint(1, 50, (4,))\n",
        "print(a)\n",
        "b = np.array([i**0.5 for i in a])\n",
        "print(b)\n"
      ],
      "metadata": {
        "colab": {
          "base_uri": "https://localhost:8080/"
        },
        "id": "2YMjwGbZNO-I",
        "outputId": "895f9f9f-e2b3-4356-a84f-7a10d64cd234"
      },
      "execution_count": 30,
      "outputs": [
        {
          "output_type": "stream",
          "name": "stdout",
          "text": [
            "[40 24  8 12]\n",
            "[6.32455532 4.89897949 2.82842712 3.46410162]\n"
          ]
        }
      ]
    }
  ]
}