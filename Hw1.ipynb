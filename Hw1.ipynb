{
  "nbformat": 4,
  "nbformat_minor": 0,
  "metadata": {
    "colab": {
      "provenance": []
    },
    "kernelspec": {
      "name": "python3",
      "display_name": "Python 3"
    },
    "language_info": {
      "name": "python"
    }
  },
  "cells": [
    {
      "cell_type": "code",
      "execution_count": 2,
      "metadata": {
        "id": "IE_Ytb4O2sDW"
      },
      "outputs": [],
      "source": [
        "import numpy as np"
      ]
    },
    {
      "cell_type": "code",
      "source": [
        "res_1 = np.arange(1, 10+1)\n",
        "print(res_1)"
      ],
      "metadata": {
        "colab": {
          "base_uri": "https://localhost:8080/"
        },
        "id": "pqGG8QflCJFW",
        "outputId": "63d33a3a-37bc-45d7-dcd9-3fb0fd66e6f9"
      },
      "execution_count": 6,
      "outputs": [
        {
          "output_type": "stream",
          "name": "stdout",
          "text": [
            "[ 1  2  3  4  5  6  7  8  9 10]\n"
          ]
        }
      ]
    },
    {
      "cell_type": "code",
      "source": [
        "res_2 = np.zeros((3, 3))\n",
        "print(res_2)"
      ],
      "metadata": {
        "colab": {
          "base_uri": "https://localhost:8080/"
        },
        "id": "Jj8MNxSHCkNB",
        "outputId": "2fff1c87-a7e0-4c48-fc91-9cd35a0f6245"
      },
      "execution_count": 8,
      "outputs": [
        {
          "output_type": "stream",
          "name": "stdout",
          "text": [
            "[[0. 0. 0.]\n",
            " [0. 0. 0.]\n",
            " [0. 0. 0.]]\n"
          ]
        }
      ]
    },
    {
      "cell_type": "code",
      "source": [
        "res_3 = np.random.randint(1, 10, (5, 5))\n",
        "print(res_3)"
      ],
      "metadata": {
        "colab": {
          "base_uri": "https://localhost:8080/"
        },
        "id": "5CBZ1kqZC9DK",
        "outputId": "d54901a7-9869-47c9-c884-0fab3b11856c"
      },
      "execution_count": 10,
      "outputs": [
        {
          "output_type": "stream",
          "name": "stdout",
          "text": [
            "[[8 6 9 1 3]\n",
            " [6 3 1 5 9]\n",
            " [5 7 6 5 5]\n",
            " [1 3 2 5 3]\n",
            " [9 1 9 5 8]]\n"
          ]
        }
      ]
    },
    {
      "cell_type": "code",
      "source": [
        "res_4 = np.random.random((4, 4))\n",
        "print(res_4)"
      ],
      "metadata": {
        "colab": {
          "base_uri": "https://localhost:8080/"
        },
        "id": "hNRuEmqsD9Wh",
        "outputId": "a39c7230-f0b7-42bd-d837-24b8412118e3"
      },
      "execution_count": 11,
      "outputs": [
        {
          "output_type": "stream",
          "name": "stdout",
          "text": [
            "[[0.52343568 0.15555594 0.8906888  0.32778273]\n",
            " [0.2377826  0.06306955 0.74442107 0.27962089]\n",
            " [0.64109373 0.54232003 0.26749796 0.99229686]\n",
            " [0.03576231 0.384439   0.07062226 0.39706506]]\n"
          ]
        }
      ]
    },
    {
      "cell_type": "code",
      "source": [
        "# 5\n",
        "a = np.random.randint(1, 10, (5,))\n",
        "b = np.random.randint(1, 10, (5,))\n",
        "print(a + b)\n",
        "print(a - b)\n",
        "print(a * b)"
      ],
      "metadata": {
        "colab": {
          "base_uri": "https://localhost:8080/"
        },
        "id": "RvMRmOkQEc0R",
        "outputId": "850c9748-41dd-4ba1-8077-b1d1de08a1b7"
      },
      "execution_count": 18,
      "outputs": [
        {
          "output_type": "stream",
          "name": "stdout",
          "text": [
            "[ 9 12  8  9  9]\n",
            "[-7 -2 -2  1  3]\n",
            "[ 8 35 15 20 18]\n"
          ]
        }
      ]
    },
    {
      "cell_type": "code",
      "source": [
        "# 6\n",
        "a = np.random.randint(1, 10, (7,))\n",
        "b = np.random.randint(1, 10, (7,))\n",
        "print(np.dot(a, b))"
      ],
      "metadata": {
        "colab": {
          "base_uri": "https://localhost:8080/"
        },
        "id": "m7EidPBfFRh9",
        "outputId": "b707fcf1-dcc6-4388-8546-af64ac5be0d9"
      },
      "execution_count": 24,
      "outputs": [
        {
          "output_type": "stream",
          "name": "stdout",
          "text": [
            "152\n"
          ]
        }
      ]
    },
    {
      "cell_type": "code",
      "source": [
        "# 7\n",
        "a = np.random.randint(1, 10, (2, 2))\n",
        "b = np.random.randint(1, 10, (2, 3))\n",
        "print(np.dot(a, b))"
      ],
      "metadata": {
        "colab": {
          "base_uri": "https://localhost:8080/"
        },
        "id": "T_bMKTyaGKFd",
        "outputId": "15144e03-dde9-4cbe-c5b8-8ce9700d6011"
      },
      "execution_count": 26,
      "outputs": [
        {
          "output_type": "stream",
          "name": "stdout",
          "text": [
            "[[52 65 37]\n",
            " [37 44 31]]\n"
          ]
        }
      ]
    },
    {
      "cell_type": "code",
      "source": [
        "# 8\n",
        "a = np.random.random((4,4))\n",
        "a_inv = np.linalg.inv(a)\n",
        "print(a_inv)"
      ],
      "metadata": {
        "colab": {
          "base_uri": "https://localhost:8080/"
        },
        "id": "rNnxyCnfHXVA",
        "outputId": "2a928d3c-67a3-42d8-c0c1-aac8f0679217"
      },
      "execution_count": 29,
      "outputs": [
        {
          "output_type": "stream",
          "name": "stdout",
          "text": [
            "[[  2.84175136  -1.03052388  -3.74717687   2.33834579]\n",
            " [  1.42355678  -1.41524295  -3.72733927   4.31569361]\n",
            " [  3.95843071  -3.65139873  -5.48002517   5.7679094 ]\n",
            " [ -7.29968118   6.55290523  12.61789992 -11.60243606]]\n"
          ]
        }
      ]
    },
    {
      "cell_type": "code",
      "source": [
        "# 9\n",
        "a = np.random.random((4,4))\n",
        "print(a.T)"
      ],
      "metadata": {
        "colab": {
          "base_uri": "https://localhost:8080/"
        },
        "id": "rjUdDjwnH8vC",
        "outputId": "499a262f-3d66-4e1a-d0ca-f60e989afbae"
      },
      "execution_count": 30,
      "outputs": [
        {
          "output_type": "stream",
          "name": "stdout",
          "text": [
            "[[0.6915924  0.54138627 0.29879006 0.1594655 ]\n",
            " [0.0116615  0.50101129 0.4498798  0.43815448]\n",
            " [0.83606704 0.00279545 0.74393612 0.83543224]\n",
            " [0.03613718 0.10442937 0.48165567 0.67200798]]\n"
          ]
        }
      ]
    },
    {
      "cell_type": "code",
      "source": [
        "# 10\n",
        "a = np.random.randint(1, 10, (3, 4))\n",
        "b = np.random.randint(1, 10, (4,))\n",
        "print(a, b)\n",
        "print(a * b)"
      ],
      "metadata": {
        "colab": {
          "base_uri": "https://localhost:8080/"
        },
        "id": "MfJx78RzIH4T",
        "outputId": "7a2c9608-4713-4be6-ff69-ee6097ad7ef0"
      },
      "execution_count": 32,
      "outputs": [
        {
          "output_type": "stream",
          "name": "stdout",
          "text": [
            "[[4 9 8 2]\n",
            " [9 5 2 2]\n",
            " [2 7 1 2]] [9 1 3 3]\n",
            "[[36  9 24  6]\n",
            " [81  5  6  6]\n",
            " [18  7  3  6]]\n"
          ]
        }
      ]
    },
    {
      "cell_type": "code",
      "source": [
        "# 11\n",
        "a = np.random.random((2, 3))\n",
        "b = np.random.random((3,))\n",
        "print(a, b)\n",
        "print(a * b)"
      ],
      "metadata": {
        "colab": {
          "base_uri": "https://localhost:8080/"
        },
        "id": "-B3eOkt2Ikde",
        "outputId": "ffa54f99-e031-47cb-91e0-f9e8db14b222"
      },
      "execution_count": 35,
      "outputs": [
        {
          "output_type": "stream",
          "name": "stdout",
          "text": [
            "[[0.06513963 0.90885725 0.271198  ]\n",
            " [0.00511453 0.95652269 0.6618694 ]] [0.20085081 0.4955617  0.65614075]\n",
            "[[0.01308335 0.45039484 0.17794406]\n",
            " [0.00102726 0.47401601 0.43427949]]\n"
          ]
        }
      ]
    },
    {
      "cell_type": "code",
      "source": [
        "# 12\n",
        "a = np.random.randint(1, 10, (2, 2))\n",
        "b = np.random.randint(1, 10, (2, 2))\n",
        "print(a * b)"
      ],
      "metadata": {
        "colab": {
          "base_uri": "https://localhost:8080/"
        },
        "id": "4XFEjJweIsSe",
        "outputId": "e0ea4e13-336e-4410-e032-37d25dfbfbb8"
      },
      "execution_count": 37,
      "outputs": [
        {
          "output_type": "stream",
          "name": "stdout",
          "text": [
            "[[36 56]\n",
            " [56  8]]\n"
          ]
        }
      ]
    },
    {
      "cell_type": "code",
      "source": [
        "# 13\n",
        "a = np.random.randint(1, 10, (2, 2))\n",
        "b = np.random.randint(1, 10, (2, 2))\n",
        "print(np.dot(a, b))"
      ],
      "metadata": {
        "colab": {
          "base_uri": "https://localhost:8080/"
        },
        "id": "4eeCpsvoI7eO",
        "outputId": "1d451f5a-097e-4387-82fd-131fc0e79b39"
      },
      "execution_count": 40,
      "outputs": [
        {
          "output_type": "stream",
          "name": "stdout",
          "text": [
            "[[80 88]\n",
            " [18 14]]\n"
          ]
        }
      ]
    },
    {
      "cell_type": "code",
      "source": [
        "# 14\n",
        "a = np.random.randint(1, 100, (5, 5))\n",
        "print(a.sum())"
      ],
      "metadata": {
        "colab": {
          "base_uri": "https://localhost:8080/"
        },
        "id": "DvExDYEfJV42",
        "outputId": "4091252c-11de-4c55-8877-aea786073000"
      },
      "execution_count": 43,
      "outputs": [
        {
          "output_type": "stream",
          "name": "stdout",
          "text": [
            "1223\n"
          ]
        }
      ]
    },
    {
      "cell_type": "code",
      "source": [
        "# 15\n",
        "a = np.random.randint(1, 10, (4, 4))\n",
        "b = np.random.randint(1, 10, (4, 4))\n",
        "print(a -  b)"
      ],
      "metadata": {
        "colab": {
          "base_uri": "https://localhost:8080/"
        },
        "id": "dWZRranzKvJH",
        "outputId": "b9022d21-0c43-4240-9696-640e3ffe492d"
      },
      "execution_count": 45,
      "outputs": [
        {
          "output_type": "stream",
          "name": "stdout",
          "text": [
            "[[ 4  0  0  5]\n",
            " [-1 -2  4  0]\n",
            " [-1 -4  1  6]\n",
            " [-6  1  5  0]]\n"
          ]
        }
      ]
    },
    {
      "cell_type": "code",
      "source": [
        "#16\n",
        "a = np.random.random((3, 3))\n",
        "print(a)\n",
        "b = np.array([i.sum() for i in a])\n",
        "print(b)"
      ],
      "metadata": {
        "colab": {
          "base_uri": "https://localhost:8080/"
        },
        "id": "etFFctwDLAp2",
        "outputId": "a82694d3-0688-4b2d-a02c-57a942b051a2"
      },
      "execution_count": 53,
      "outputs": [
        {
          "output_type": "stream",
          "name": "stdout",
          "text": [
            "[[0.29846498 0.85012149 0.17392847]\n",
            " [0.77877186 0.8559984  0.25254004]\n",
            " [0.0821756  0.24577655 0.83910149]]\n",
            "[1.32251493 1.8873103  1.16705365]\n"
          ]
        }
      ]
    },
    {
      "cell_type": "code",
      "source": [
        "# 17\n",
        "a = np.random.randint(1, 10, (3, 4))\n",
        "print(a)\n",
        "b = np.array([[j**2 for j in i] for i in a])\n",
        "print(b)"
      ],
      "metadata": {
        "colab": {
          "base_uri": "https://localhost:8080/"
        },
        "id": "Sl_LzIeCNF0x",
        "outputId": "927ec824-6334-43d5-81cb-591e8a39da9f"
      },
      "execution_count": 57,
      "outputs": [
        {
          "output_type": "stream",
          "name": "stdout",
          "text": [
            "[[9 6 1 1]\n",
            " [9 6 8 1]\n",
            " [9 8 4 5]]\n",
            "[[81 36  1  1]\n",
            " [81 36 64  1]\n",
            " [81 64 16 25]]\n"
          ]
        }
      ]
    },
    {
      "cell_type": "code",
      "source": [
        "# 18\n",
        "a = np.random.randint(1, 50, (4,))\n",
        "print(a)\n",
        "b = np.array([i**0.5 for i in a])\n",
        "print(b)\n"
      ],
      "metadata": {
        "colab": {
          "base_uri": "https://localhost:8080/"
        },
        "id": "2YMjwGbZNO-I",
        "outputId": "1dfdfa17-dd0e-47ca-eacc-4b0c45be61b4"
      },
      "execution_count": 58,
      "outputs": [
        {
          "output_type": "stream",
          "name": "stdout",
          "text": [
            "[31 16  6  8]\n",
            "[5.56776436 4.         2.44948974 2.82842712]\n"
          ]
        }
      ]
    }
  ]
}